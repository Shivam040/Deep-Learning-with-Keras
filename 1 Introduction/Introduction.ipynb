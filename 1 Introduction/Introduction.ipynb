{
 "cells": [
  {
   "cell_type": "markdown",
   "id": "b9735cb5",
   "metadata": {},
   "source": [
    "# Part 1: Introduction to Neural Networks and Deep Learning\n",
    "\n",
    "This part introduces learners to deep learning and neural networks. Topics covered include:\n",
    "\n",
    "- Introduction to Deep Learning and Neural Networks\n",
    "- Introduction to deep learning\n",
    "- Neurons and neural networks\n",
    "- Artificial neural networks\n",
    "\n",
    "Lab: Build an artificial neural network from scratch and code how it performs predictions using forward propagation"
   ]
  },
  {
   "cell_type": "markdown",
   "id": "c8df0ae8",
   "metadata": {},
   "source": [
    "# Part 2: Basics of Deep Learning\n",
    "\n",
    "In this part, you will learn about the gradient descent algorithm, backpropagation, and how neural networks learn and update their weights and biases. You will learn about the vanishing gradient problem. Finally, you will learn about activation functions. Topics include:\n",
    "\n",
    "- Basics of Deep Learning\n",
    "- Gradient descent\n",
    "- Backpropagation\n",
    "- Vanishing gradient\n",
    "- Activation functions\n",
    "\n",
    "Lab: Mitigate the vanishing gradient problem by using a ReLU activation function"
   ]
  },
  {
   "cell_type": "markdown",
   "id": "9078f438",
   "metadata": {},
   "source": [
    "# Part 3: Keras and Deep Learning Libraries\n",
    "\n",
    "In this part, you will learn about some of the different deep learning libraries available and how to build regression and classification models using the Keras library. Topics include:\n",
    "\n",
    "- Modeling with Keras\n",
    "- Deep learning libraries\n",
    "- Regression models with Keras\n",
    "- Classification models with Keras\n",
    "\n",
    "Lab: Use the Keras library to build a regression model and build a model for classification problems"
   ]
  },
  {
   "cell_type": "markdown",
   "id": "7da113d4",
   "metadata": {},
   "source": [
    "# Part 4: Deep Learning Models\n",
    "\n",
    "In this part, you will learn about the difference between shallow and deep neural networks, learn about convolutional networks and recurrent neural networks, and about transformers and autoencoders. Topics include:\n",
    "\n",
    "- Supervised and unsupervised neural networks\n",
    "- Shallow versus deep neural networks\n",
    "- Convolutional neural networks\n",
    "- Recurrent neural networks\n",
    "- Transformers\n",
    "- Autoencoders\n",
    "\n",
    "Lab: Use the Keras library to build convolutional neural networks and build a transformer model"
   ]
  },
  {
   "cell_type": "markdown",
   "id": "61bbd8a0",
   "metadata": {},
   "source": [
    "# Part 5: Final project and wrap-up\n",
    "\n",
    "Final project where we will use convolutional neural network for detect the type of objects and then generate the captions for that using transformers. The course will conclude with a comprehensive wrap-up and additional resources for further learning."
   ]
  },
  {
   "cell_type": "markdown",
   "id": "1b0fe70d",
   "metadata": {},
   "source": []
  }
 ],
 "metadata": {
  "language_info": {
   "name": "python"
  }
 },
 "nbformat": 4,
 "nbformat_minor": 5
}
